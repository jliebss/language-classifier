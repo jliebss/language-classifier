{
 "cells": [
  {
   "cell_type": "markdown",
   "metadata": {},
   "source": [
    "# Comparing the Accuracy of Three Classification Algorithms\n",
    "\n",
    "Which of the following three classification algorithms - K-Nearest Neighbors, Support Vector Machine, and Multi-layer Perceptron - will perform the best at classifying the language of a word?"
   ]
  },
  {
   "cell_type": "markdown",
   "metadata": {},
   "source": [
    "## Load Data"
   ]
  },
  {
   "cell_type": "code",
   "execution_count": 1,
   "metadata": {
    "colab": {
     "base_uri": "https://localhost:8080/"
    },
    "id": "vDJtfn6Ybak0",
    "outputId": "926ec6a9-bb18-420c-e243-9fd28bc3b77c"
   },
   "outputs": [
    {
     "name": "stdout",
     "output_type": "stream",
     "text": [
      "['aa\\n', 'aaa\\n', 'aachen\\n', 'aardvark\\n', 'aardvarks\\n', 'aardwolf\\n', 'aardwolves\\n', 'aarhus\\n', 'aaron\\n']\n",
      "['Aachen\\n', 'Aal\\n', 'Aals\\n', 'Aargau\\n', 'Aargaus\\n', 'Aases\\n', 'Aasgeiern\\n', 'Aasgeiers\\n', 'ABS\\n']\n",
      "['ADSL\\n', 'Abad\\n', 'AbadÃ\\xada\\n', 'Abajo\\n', 'AbalÃ¡\\n', 'Abancay\\n', 'Abanga\\n', 'AbapÃ³\\n', 'Abasolo\\n']\n"
     ]
    }
   ],
   "source": [
    "# Load in files\n",
    "english_file = open(\"english.txt\")\n",
    "german_file  = open(\"german.txt\",  encoding='latin-1')\n",
    "spanish_file = open(\"spanish.txt\", encoding='latin-1')\n",
    "\n",
    "english_words = english_file.readlines()\n",
    "german_words  = german_file.readlines()\n",
    "spanish_words = spanish_file.readlines()\n",
    "\n",
    "# Make list of lists of all words\n",
    "words_dataset = []\n",
    "words_dataset.append(english_words)\n",
    "words_dataset.append(german_words)\n",
    "words_dataset.append(spanish_words)\n",
    "\n",
    "# would use list comprehension but this data is too big for jupyter to do that\n",
    "print(english_words[1:10])\n",
    "print(german_words[1:10])\n",
    "print(spanish_words[1:10])"
   ]
  },
  {
   "cell_type": "markdown",
   "metadata": {},
   "source": [
    "## Prepare Data"
   ]
  },
  {
   "cell_type": "code",
   "execution_count": 2,
   "metadata": {},
   "outputs": [
    {
     "name": "stdout",
     "output_type": "stream",
     "text": [
      "[[97, 97, 114, 111, 110], [97, 98, 97, 98, 97], [97, 98, 97, 99, 97], [97, 98, 97, 99, 105], [97, 98, 97, 99, 107]]\n",
      "[0, 0, 0, 0, 0]\n"
     ]
    }
   ],
   "source": [
    "# words and language are the feature and label, respectively\n",
    "# language number is 0 for English, 1 for German, and 2 for Spanish\n",
    "words    = []\n",
    "language = []\n",
    "language_number = -1\n",
    "\n",
    "# function to process data and make feature/label datasets\n",
    "def word_dataset_preparer(words_dataset):\n",
    "    \n",
    "    for word_list in words_dataset:\n",
    "        global language_number\n",
    "        language_number += 1\n",
    "    \n",
    "        for word in word_list:\n",
    "            word = word.replace('\\n', '')\n",
    "            \n",
    "            # only do five-letter words to make this simpler\n",
    "            if len(word) == 5:\n",
    "                words.append([ord(letter) for letter in word])\n",
    "                language.append(language_number)\n",
    "                \n",
    "word_dataset_preparer(words_dataset)\n",
    "\n",
    "print(words[0:5])\n",
    "print(language[0:5])"
   ]
  },
  {
   "cell_type": "markdown",
   "metadata": {},
   "source": [
    "## Train Model and Make Predictions"
   ]
  },
  {
   "cell_type": "code",
   "execution_count": 3,
   "metadata": {
    "id": "1WJLiDp5f0DV"
   },
   "outputs": [],
   "source": [
    "from sklearn.model_selection import train_test_split\n",
    "\n",
    "X_train, X_test, y_train, y_test = train_test_split(words, language, test_size=.2, random_state=1)"
   ]
  },
  {
   "cell_type": "code",
   "execution_count": 4,
   "metadata": {
    "id": "GrFX5nNofP6b"
   },
   "outputs": [],
   "source": [
    "# Three classifiers: K-Nearest Neighbors, Support Vector Machine, and Multilayer Perceptron\n",
    "from sklearn.neighbors import KNeighborsClassifier\n",
    "from sklearn import svm\n",
    "from sklearn.neural_network import MLPClassifier\n",
    "\n",
    "knn_model = KNeighborsClassifier()\n",
    "svm_model = svm.SVC()\n",
    "mlp_nn = MLPClassifier()"
   ]
  },
  {
   "cell_type": "code",
   "execution_count": 5,
   "metadata": {
    "colab": {
     "base_uri": "https://localhost:8080/"
    },
    "id": "T7nxr1Yqhhnv",
    "outputId": "7e4a3437-7f8b-4c6d-a8a8-56388b6af87d"
   },
   "outputs": [],
   "source": [
    "knn_model.fit(X_train, y_train)\n",
    "svm_model.fit(X_train, y_train)\n",
    "mlp_nn.fit(X_train, y_train)\n",
    "\n",
    "knn_predicted = knn_model.predict(X_test)\n",
    "svm_predicted = svm_model.predict(X_test)\n",
    "mlp_predicted = mlp_nn.predict(X_test)"
   ]
  },
  {
   "cell_type": "markdown",
   "metadata": {},
   "source": [
    "## Review and Visualize Accuracy"
   ]
  },
  {
   "cell_type": "code",
   "execution_count": 6,
   "metadata": {
    "id": "P-Y210cQn25k"
   },
   "outputs": [
    {
     "name": "stdout",
     "output_type": "stream",
     "text": [
      "0.8254349130173965\n",
      "0.8272345530893821\n",
      "0.7975404919016197\n"
     ]
    }
   ],
   "source": [
    "from sklearn.metrics import accuracy_score\n",
    "\n",
    "knn_accuracy = accuracy_score(y_test, knn_predicted)\n",
    "svm_accuracy = accuracy_score(y_test, svm_predicted)\n",
    "mlp_accuracy = accuracy_score(y_test, mlp_predicted)\n",
    "\n",
    "print(knn_accuracy)\n",
    "print(svm_accuracy)\n",
    "print(mlp_accuracy)"
   ]
  },
  {
   "cell_type": "code",
   "execution_count": 7,
   "metadata": {},
   "outputs": [
    {
     "data": {
      "image/png": "[encoded data removed]",
      "text/plain": [
       "<Figure size 432x288 with 1 Axes>"
      ]
     },
     "metadata": {
      "needs_background": "light"
     },
     "output_type": "display_data"
    }
   ],
   "source": [
    "import numpy as np\n",
    "import matplotlib.pyplot as plt\n",
    "\n",
    "x = ['KNN', 'SVM', 'MLP']\n",
    "y = [knn_accuracy, svm_accuracy, mlp_accuracy]\n",
    "\n",
    "plt.bar(x, y)\n",
    "plt.ylabel('Accuracy')\n",
    "plt.title('Accuracy Comparisons for Three Models')\n",
    "\n",
    "# Add values to each bar\n",
    "for i, v in enumerate(y):\n",
    "    plt.text(i, v - .05, str(round(v, 3)), ha = 'center', color='white')\n",
    "\n",
    "plt.show()"
   ]
  },
  {
   "cell_type": "markdown",
   "metadata": {},
   "source": [
    "## Conclusion\n",
    "\n",
    "The SVM and KNN are about tied for first, whereas the MLP is a few percentage points lower; however, all models were very accurate. If I had to choose a model for future language classification, I would likely choose the KNN, as it handles low-feature, high-record datasets better than the SVM."
   ]
  }
 ],
 "metadata": {
  "colab": {
   "collapsed_sections": [],
   "name": "Assignment 1.ipynb",
   "provenance": []
  },
  "kernelspec": {
   "display_name": "Python 3",
   "language": "python",
   "name": "python3"
  },
  "language_info": {
   "codemirror_mode": {
    "name": "ipython",
    "version": 3
   },
   "file_extension": ".py",
   "mimetype": "text/x-python",
   "name": "python",
   "nbconvert_exporter": "python",
   "pygments_lexer": "ipython3",
   "version": "3.7.9"
  }
 },
 "nbformat": 4,
 "nbformat_minor": 4
}
